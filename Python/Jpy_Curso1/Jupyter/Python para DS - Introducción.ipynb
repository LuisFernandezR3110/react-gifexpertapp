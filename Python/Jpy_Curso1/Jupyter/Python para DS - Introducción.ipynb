{
 "cells": [
  {
   "cell_type": "markdown",
   "metadata": {},
   "source": [
    "# Python para DS - Introducción al Lenguaje"
   ]
  },
  {
   "cell_type": "code",
   "execution_count": 150,
   "metadata": {},
   "outputs": [
    {
     "data": {
      "text/plain": [
       "2"
      ]
     },
     "execution_count": 150,
     "metadata": {},
     "output_type": "execute_result"
    }
   ],
   "source": [
    "1 + 1"
   ]
  },
  {
   "cell_type": "code",
   "execution_count": 151,
   "metadata": {},
   "outputs": [
    {
     "data": {
      "text/plain": [
       "'Luis'"
      ]
     },
     "execution_count": 151,
     "metadata": {},
     "output_type": "execute_result"
    }
   ],
   "source": [
    "'Luis'"
   ]
  },
  {
   "cell_type": "code",
   "execution_count": 152,
   "metadata": {},
   "outputs": [],
   "source": [
    "nombre = 'Luis'"
   ]
  },
  {
   "cell_type": "code",
   "execution_count": 153,
   "metadata": {},
   "outputs": [
    {
     "data": {
      "text/plain": [
       "'Luis'"
      ]
     },
     "execution_count": 153,
     "metadata": {},
     "output_type": "execute_result"
    }
   ],
   "source": [
    "nombre"
   ]
  },
  {
   "cell_type": "code",
   "execution_count": 154,
   "metadata": {},
   "outputs": [],
   "source": [
    "edad = 18"
   ]
  },
  {
   "cell_type": "code",
   "execution_count": 155,
   "metadata": {},
   "outputs": [
    {
     "data": {
      "text/plain": [
       "18"
      ]
     },
     "execution_count": 155,
     "metadata": {},
     "output_type": "execute_result"
    }
   ],
   "source": [
    "edad"
   ]
  },
  {
   "cell_type": "code",
   "execution_count": 156,
   "metadata": {},
   "outputs": [
    {
     "name": "stdout",
     "output_type": "stream",
     "text": [
      "El nombre es Luis y su edad es 18 años\n"
     ]
    }
   ],
   "source": [
    "print(f'El nombre es {nombre} y su edad es {edad} años')"
   ]
  },
  {
   "cell_type": "code",
   "execution_count": 157,
   "metadata": {},
   "outputs": [],
   "source": [
    "def saludar():\n",
    "    nombre = input('Digite su nombre: ')\n",
    "    print(f'Hola {nombre} ¡¡¡sea bienvenid@!!!')"
   ]
  },
  {
   "cell_type": "code",
   "execution_count": 158,
   "metadata": {},
   "outputs": [
    {
     "name": "stdout",
     "output_type": "stream",
     "text": [
      "Hola a ¡¡¡sea bienvenid@!!!\n"
     ]
    }
   ],
   "source": [
    "saludar()"
   ]
  },
  {
   "cell_type": "code",
   "execution_count": 159,
   "metadata": {},
   "outputs": [],
   "source": [
    "def nombre():\n",
    "    primer_nombre = input('¿Cual es tu primer nombre?')\n",
    "    apellido = input('¿Cual es tu apellido?')\n",
    "    nombre_completo = (primer_nombre + ' ' + apellido)\n",
    "    print(nombre_completo)"
   ]
  },
  {
   "cell_type": "code",
   "execution_count": 160,
   "metadata": {},
   "outputs": [
    {
     "name": "stdout",
     "output_type": "stream",
     "text": [
      " \n"
     ]
    }
   ],
   "source": [
    "nombre()"
   ]
  },
  {
   "cell_type": "code",
   "execution_count": 161,
   "metadata": {},
   "outputs": [],
   "source": [
    "def nombre():\n",
    "    primer_nombre = input('Introduce tu primer nombre')\n",
    "    apellido = input('Introduce tu apellido')\n",
    "    nombre_completo = primer_nombre + ' ' + apellido\n",
    "    print(nombre_completo)"
   ]
  },
  {
   "cell_type": "code",
   "execution_count": 162,
   "metadata": {},
   "outputs": [
    {
     "name": "stdout",
     "output_type": "stream",
     "text": [
      " \n"
     ]
    }
   ],
   "source": [
    "nombre()"
   ]
  },
  {
   "cell_type": "markdown",
   "metadata": {},
   "source": [
    "# Parámetros"
   ]
  },
  {
   "cell_type": "code",
   "execution_count": 163,
   "metadata": {},
   "outputs": [],
   "source": [
    "nombre= \"Andrea\""
   ]
  },
  {
   "cell_type": "code",
   "execution_count": 164,
   "metadata": {},
   "outputs": [],
   "source": [
    "def saludar_con_parametros(nombre):\n",
    "    print(f'¡¡¡Hola {nombre} sea bienvenid@!!!')"
   ]
  },
  {
   "cell_type": "code",
   "execution_count": 165,
   "metadata": {},
   "outputs": [
    {
     "name": "stdout",
     "output_type": "stream",
     "text": [
      "¡¡¡Hola Andrea sea bienvenid@!!!\n"
     ]
    }
   ],
   "source": [
    "saludar_con_parametros(nombre)"
   ]
  },
  {
   "cell_type": "markdown",
   "metadata": {},
   "source": [
    "# Condicionales"
   ]
  },
  {
   "cell_type": "code",
   "execution_count": 166,
   "metadata": {},
   "outputs": [
    {
     "name": "stdout",
     "output_type": "stream",
     "text": [
      "Usted tiene edad suficiente para conducir\n"
     ]
    }
   ],
   "source": [
    "edad = 18\n",
    "\n",
    "def verificar_si_puede_conducir(edad):\n",
    "    if edad >= 18:\n",
    "        print(\"Usted tiene edad suficiente para conducir\")\n",
    "    else:\n",
    "        print(\"Unsted NO tiene edad suficiente para conducir\")\n",
    "\n",
    "verificar_si_puede_conducir(edad)"
   ]
  },
  {
   "cell_type": "markdown",
   "metadata": {},
   "source": [
    "# Condicionales sin parámetro y conversión de tipo de dato"
   ]
  },
  {
   "cell_type": "code",
   "execution_count": 167,
   "metadata": {},
   "outputs": [
    {
     "ename": "ValueError",
     "evalue": "invalid literal for int() with base 10: ''",
     "output_type": "error",
     "traceback": [
      "\u001b[1;31m---------------------------------------------------------------------------\u001b[0m",
      "\u001b[1;31mValueError\u001b[0m                                Traceback (most recent call last)",
      "\u001b[1;32m~\\AppData\\Local\\Temp/ipykernel_12240/2494301829.py\u001b[0m in \u001b[0;36m<module>\u001b[1;34m\u001b[0m\n\u001b[0;32m      7\u001b[0m         \u001b[0mprint\u001b[0m\u001b[1;33m(\u001b[0m\u001b[1;34m\"Unsted NO tiene edad suficiente para conducir\"\u001b[0m\u001b[1;33m)\u001b[0m\u001b[1;33m\u001b[0m\u001b[1;33m\u001b[0m\u001b[0m\n\u001b[0;32m      8\u001b[0m \u001b[1;33m\u001b[0m\u001b[0m\n\u001b[1;32m----> 9\u001b[1;33m \u001b[0mverificar_si_puede_conducir_sin_parametro\u001b[0m\u001b[1;33m(\u001b[0m\u001b[1;33m)\u001b[0m\u001b[1;33m\u001b[0m\u001b[1;33m\u001b[0m\u001b[0m\n\u001b[0m",
      "\u001b[1;32m~\\AppData\\Local\\Temp/ipykernel_12240/2494301829.py\u001b[0m in \u001b[0;36mverificar_si_puede_conducir_sin_parametro\u001b[1;34m()\u001b[0m\n\u001b[0;32m      1\u001b[0m \u001b[1;32mdef\u001b[0m \u001b[0mverificar_si_puede_conducir_sin_parametro\u001b[0m\u001b[1;33m(\u001b[0m\u001b[1;33m)\u001b[0m\u001b[1;33m:\u001b[0m\u001b[1;33m\u001b[0m\u001b[1;33m\u001b[0m\u001b[0m\n\u001b[0;32m      2\u001b[0m     \u001b[0medad\u001b[0m \u001b[1;33m=\u001b[0m \u001b[0minput\u001b[0m\u001b[1;33m(\u001b[0m\u001b[1;34m'Digite su edad: '\u001b[0m\u001b[1;33m)\u001b[0m\u001b[1;33m\u001b[0m\u001b[1;33m\u001b[0m\u001b[0m\n\u001b[1;32m----> 3\u001b[1;33m     \u001b[0medad\u001b[0m \u001b[1;33m=\u001b[0m \u001b[0mint\u001b[0m\u001b[1;33m(\u001b[0m\u001b[0medad\u001b[0m\u001b[1;33m)\u001b[0m\u001b[1;33m\u001b[0m\u001b[1;33m\u001b[0m\u001b[0m\n\u001b[0m\u001b[0;32m      4\u001b[0m     \u001b[1;32mif\u001b[0m \u001b[0medad\u001b[0m \u001b[1;33m>=\u001b[0m \u001b[1;36m18\u001b[0m\u001b[1;33m:\u001b[0m\u001b[1;33m\u001b[0m\u001b[1;33m\u001b[0m\u001b[0m\n\u001b[0;32m      5\u001b[0m         \u001b[0mprint\u001b[0m\u001b[1;33m(\u001b[0m\u001b[1;34m\"Usted tiene edad suficiente para conducir\"\u001b[0m\u001b[1;33m)\u001b[0m\u001b[1;33m\u001b[0m\u001b[1;33m\u001b[0m\u001b[0m\n",
      "\u001b[1;31mValueError\u001b[0m: invalid literal for int() with base 10: ''"
     ]
    }
   ],
   "source": [
    "def verificar_si_puede_conducir_sin_parametro():\n",
    "    edad = input('Digite su edad: ')\n",
    "    edad = int(edad)\n",
    "    if edad >= 18:\n",
    "        print(\"Usted tiene edad suficiente para conducir\")\n",
    "    else:\n",
    "        print(\"Unsted NO tiene edad suficiente para conducir\")\n",
    "\n",
    "verificar_si_puede_conducir_sin_parametro()"
   ]
  },
  {
   "cell_type": "code",
   "execution_count": null,
   "metadata": {},
   "outputs": [
    {
     "name": "stdout",
     "output_type": "stream",
     "text": [
      "Usted tiene edad suficiente para conducir\n"
     ]
    }
   ],
   "source": [
    "edad = input(\"Introduzca su edad\")\n",
    "edad = int(edad)\n",
    "\n",
    "def verificar_si_puedes_conducir(edad):\n",
    "    if edad >= 18:\n",
    "        print('Usted tiene edad suficiente para conducir')\n",
    "    else:\n",
    "        print('Usted NO tiene edad suficiente para conducir')\n",
    "\n",
    "verificar_si_puede_conducir(edad)"
   ]
  },
  {
   "cell_type": "markdown",
   "metadata": {},
   "source": [
    "# Ciclos y Bucles"
   ]
  },
  {
   "cell_type": "code",
   "execution_count": null,
   "metadata": {},
   "outputs": [
    {
     "name": "stdout",
     "output_type": "stream",
     "text": [
      "Usted tiene edad suficiente para conducir\n",
      "Unsted NO tiene edad suficiente para conducir\n",
      "Unsted NO tiene edad suficiente para conducir\n",
      "Usted tiene edad suficiente para conducir\n",
      "Usted tiene edad suficiente para conducir\n"
     ]
    }
   ],
   "source": [
    "#Bucle fuera de la funcion\n",
    "edades = [18, 15, 12, 45, 50]\n",
    "\n",
    "edad = 18\n",
    "\n",
    "def verificar_si_puede_conducir(edad):\n",
    "    if edad >= 18:\n",
    "        print(\"Usted tiene edad suficiente para conducir\")\n",
    "    else:\n",
    "        print(\"Unsted NO tiene edad suficiente para conducir\")\n",
    "\n",
    "\n",
    "for edad in edades:\n",
    "    verificar_si_puede_conducir(edad)"
   ]
  },
  {
   "cell_type": "code",
   "execution_count": null,
   "metadata": {},
   "outputs": [
    {
     "name": "stdout",
     "output_type": "stream",
     "text": [
      "Usted tiene edad suficiente para conducir\n",
      "Unsted NO tiene edad suficiente para conducir\n",
      "Unsted NO tiene edad suficiente para conducir\n",
      "Usted tiene edad suficiente para conducir\n",
      "Usted tiene edad suficiente para conducir\n"
     ]
    }
   ],
   "source": [
    "#Bucle dentro de la funcion\n",
    "edades = [18, 15, 12, 45, 50]\n",
    "\n",
    "edad = 18\n",
    "\n",
    "def verificar_si_puede_conducir_con_bucle(edades):\n",
    "    for edad in edades:\n",
    "        if edad >= 18:\n",
    "            print(\"Usted tiene edad suficiente para conducir\")\n",
    "        else:\n",
    "            print(\"Unsted NO tiene edad suficiente para conducir\")\n",
    "\n",
    "\n",
    "verificar_si_puede_conducir_con_bucle(edades)"
   ]
  },
  {
   "cell_type": "markdown",
   "metadata": {},
   "source": [
    "# Booleano"
   ]
  },
  {
   "cell_type": "code",
   "execution_count": null,
   "metadata": {},
   "outputs": [],
   "source": [
    "edad = 18"
   ]
  },
  {
   "cell_type": "code",
   "execution_count": null,
   "metadata": {},
   "outputs": [
    {
     "data": {
      "text/plain": [
       "True"
      ]
     },
     "execution_count": 2,
     "metadata": {},
     "output_type": "execute_result"
    }
   ],
   "source": [
    "edad >= 18"
   ]
  },
  {
   "cell_type": "code",
   "execution_count": null,
   "metadata": {},
   "outputs": [
    {
     "data": {
      "text/plain": [
       "False"
      ]
     },
     "execution_count": 3,
     "metadata": {},
     "output_type": "execute_result"
    }
   ],
   "source": [
    "edad < 18"
   ]
  },
  {
   "cell_type": "code",
   "execution_count": null,
   "metadata": {},
   "outputs": [
    {
     "data": {
      "text/plain": [
       "True"
      ]
     },
     "execution_count": 4,
     "metadata": {},
     "output_type": "execute_result"
    }
   ],
   "source": [
    "edad == 18"
   ]
  },
  {
   "cell_type": "code",
   "execution_count": null,
   "metadata": {},
   "outputs": [
    {
     "data": {
      "text/plain": [
       "False"
      ]
     },
     "execution_count": 5,
     "metadata": {},
     "output_type": "execute_result"
    }
   ],
   "source": [
    "edad != 18"
   ]
  },
  {
   "cell_type": "code",
   "execution_count": null,
   "metadata": {},
   "outputs": [
    {
     "name": "stdout",
     "output_type": "stream",
     "text": [
      "Unsted NO tiene edad suficiente para conducir\n",
      "Unsted NO tiene edad suficiente para conducir\n",
      "Usted tiene edad suficiente para conducir\n"
     ]
    }
   ],
   "source": [
    "verificaciones = []\n",
    "edades = [13, 15, 20]\n",
    "\n",
    "def verificar_si_puede_conducir_bool(verificar, edades):\n",
    "    for edad in edades:\n",
    "        if edad >= 18:\n",
    "            verificaciones.append(True)\n",
    "        else:\n",
    "            verificaciones.append(False)\n",
    "    for verificacion in verificaciones:\n",
    "        if verificacion == True:\n",
    "            print('Usted tiene edad suficiente para conducir')\n",
    "        else:\n",
    "            print('Unsted NO tiene edad suficiente para conducir')\n",
    "\n",
    "verificar_si_puede_conducir_bool(verificaciones, edades)\n"
   ]
  },
  {
   "cell_type": "code",
   "execution_count": null,
   "metadata": {},
   "outputs": [
    {
     "ename": "NameError",
     "evalue": "name 'edades' is not defined",
     "output_type": "error",
     "traceback": [
      "\u001b[1;31m---------------------------------------------------------------------------\u001b[0m",
      "\u001b[1;31mNameError\u001b[0m                                 Traceback (most recent call last)",
      "\u001b[1;32m~\\AppData\\Local\\Temp/ipykernel_12240/3405994119.py\u001b[0m in \u001b[0;36m<module>\u001b[1;34m\u001b[0m\n\u001b[0;32m     14\u001b[0m             \u001b[0mprint\u001b[0m\u001b[1;33m(\u001b[0m\u001b[1;34m'Unsted NO tiene edad suficiente para conducir'\u001b[0m\u001b[1;33m)\u001b[0m\u001b[1;33m\u001b[0m\u001b[1;33m\u001b[0m\u001b[0m\n\u001b[0;32m     15\u001b[0m \u001b[1;33m\u001b[0m\u001b[0m\n\u001b[1;32m---> 16\u001b[1;33m \u001b[0mverificar_si_puede_conducir_bool\u001b[0m\u001b[1;33m(\u001b[0m\u001b[0mverificaciones\u001b[0m\u001b[1;33m,\u001b[0m \u001b[0medades\u001b[0m\u001b[1;33m)\u001b[0m\u001b[1;33m\u001b[0m\u001b[1;33m\u001b[0m\u001b[0m\n\u001b[0m",
      "\u001b[1;31mNameError\u001b[0m: name 'edades' is not defined"
     ]
    }
   ],
   "source": [
    "verificaciones = []\n",
    "edades = [13, 15, 20]\n",
    "\n",
    "def verificar_si_puede_conducir_bool(verificar, edades):\n",
    "    for edad in edades:\n",
    "        if edad >= 18:\n",
    "            verificaciones.append(True)\n",
    "        else:\n",
    "            verificaciones.append(False)\n",
    "    for verificacion in verificaciones:\n",
    "        if verificacion == True:\n",
    "            print('Usted tiene edad suficiente para conducir')\n",
    "        else:\n",
    "            print('Unsted NO tiene edad suficiente para conducir')\n",
    "\n",
    "verificar_si_puede_conducir_bool(verificaciones, edades)\n"
   ]
  },
  {
   "cell_type": "markdown",
   "metadata": {},
   "source": [
    "# Lista con diferentes tipos de datos"
   ]
  },
  {
   "cell_type": "code",
   "execution_count": null,
   "metadata": {},
   "outputs": [],
   "source": [
    "persona = ['Mariana', 25, True, 'México']"
   ]
  },
  {
   "cell_type": "code",
   "execution_count": null,
   "metadata": {},
   "outputs": [
    {
     "data": {
      "text/plain": [
       "['Mariana', 25, True, 'México']"
      ]
     },
     "execution_count": 5,
     "metadata": {},
     "output_type": "execute_result"
    }
   ],
   "source": [
    "persona"
   ]
  },
  {
   "cell_type": "code",
   "execution_count": null,
   "metadata": {},
   "outputs": [
    {
     "name": "stdout",
     "output_type": "stream",
     "text": [
      "El elemento Mariana de la lista es del tipo  <class 'str'>\n",
      "El elemento 25 de la lista es del tipo  <class 'int'>\n",
      "El elemento True de la lista es del tipo  <class 'bool'>\n",
      "El elemento México de la lista es del tipo  <class 'str'>\n"
     ]
    }
   ],
   "source": [
    "for elemento in persona:\n",
    "    print(f'El elemento {elemento} de la lista es del tipo ', type(elemento))"
   ]
  },
  {
   "cell_type": "code",
   "execution_count": null,
   "metadata": {},
   "outputs": [],
   "source": [
    "lista = ['int', False, True, '18', 2020]"
   ]
  },
  {
   "cell_type": "code",
   "execution_count": null,
   "metadata": {},
   "outputs": [
    {
     "name": "stdout",
     "output_type": "stream",
     "text": [
      "<class 'str'>\n",
      "<class 'bool'>\n",
      "<class 'bool'>\n",
      "<class 'str'>\n",
      "<class 'int'>\n"
     ]
    }
   ],
   "source": [
    "for elemento in lista:\n",
    "    print(type(elemento))"
   ]
  },
  {
   "cell_type": "code",
   "execution_count": null,
   "metadata": {},
   "outputs": [
    {
     "name": "stdout",
     "output_type": "stream",
     "text": [
      "Usted NO tiene edad suficiente para conducir\n",
      "Usted NO tiene edad suficiente para conducir\n",
      "Usted tiene edad suficiente para conducir\n"
     ]
    }
   ],
   "source": [
    "verificaciones = []\n",
    "edades = [13, 15, 20]\n",
    "\n",
    "def verificar_si_puede_conducir_bool(verificar, edades):\n",
    "    for edad in edades:\n",
    "        if edad >= 18:\n",
    "            verificaciones.append(True)\n",
    "        else:\n",
    "            verificaciones.append(False)\n",
    "    for verificacion in verificaciones:\n",
    "        if verificacion == True:\n",
    "            print('Usted tiene edad suficiente para conducir')\n",
    "        else:\n",
    "            print('Usted NO tiene edad suficiente para conducir')\n",
    "\n",
    "verificar_si_puede_conducir_bool(verificaciones, edades)"
   ]
  },
  {
   "cell_type": "code",
   "execution_count": null,
   "metadata": {},
   "outputs": [
    {
     "name": "stdout",
     "output_type": "stream",
     "text": [
      "Usted no puede conducir\n",
      "Usted puede conducir\n",
      "Usted puede conducir\n",
      "Usted no puede conducir\n"
     ]
    }
   ],
   "source": [
    "comprobante = []\n",
    "edades = [13, 18, 21, 16]\n",
    "\n",
    "def comprobar_edad(comprobante, edades):\n",
    "    for edad in edades:\n",
    "        if edad >= 18:\n",
    "            comprobante.append(True)\n",
    "        else:\n",
    "            comprobante.append(False)\n",
    "\n",
    "    for comprobar in comprobante:\n",
    "        if comprobar == True:\n",
    "            print(\"Usted puede conducir\")\n",
    "        else:\n",
    "            print(\"Usted no puede conducir\")\n",
    "\n",
    "comprobar_edad(comprobante, edades)"
   ]
  },
  {
   "cell_type": "markdown",
   "metadata": {},
   "source": [
    "# Importando una biblioteca"
   ]
  },
  {
   "cell_type": "code",
   "execution_count": null,
   "metadata": {},
   "outputs": [],
   "source": [
    "from random import randrange, seed"
   ]
  },
  {
   "cell_type": "code",
   "execution_count": 169,
   "metadata": {},
   "outputs": [
    {
     "data": {
      "text/plain": [
       "[3, 5, 6, 2, 3, 0]"
      ]
     },
     "execution_count": 169,
     "metadata": {},
     "output_type": "execute_result"
    }
   ],
   "source": [
    "nota_matematicas = []\n",
    "seed(8)\n",
    "for nota in range(6):\n",
    "    nota_matematicas.append(randrange(0,11))\n",
    "\n",
    "nota_matematicas"
   ]
  },
  {
   "cell_type": "code",
   "execution_count": null,
   "metadata": {},
   "outputs": [
    {
     "data": {
      "text/plain": [
       "6"
      ]
     },
     "execution_count": 99,
     "metadata": {},
     "output_type": "execute_result"
    }
   ],
   "source": [
    "len(notas_matematicas)"
   ]
  },
  {
   "cell_type": "markdown",
   "metadata": {},
   "source": [
    "# Biblioteca Matplotlib para gráficos"
   ]
  },
  {
   "cell_type": "code",
   "execution_count": 179,
   "metadata": {},
   "outputs": [],
   "source": [
    "import matplotlib.pyplot as plt "
   ]
  },
  {
   "cell_type": "code",
   "execution_count": null,
   "metadata": {},
   "outputs": [
    {
     "data": {
      "text/plain": [
       "[1, 2, 3, 4, 5, 6]"
      ]
     },
     "execution_count": 145,
     "metadata": {},
     "output_type": "execute_result"
    }
   ],
   "source": [
    "list(range(1, 7))"
   ]
  },
  {
   "cell_type": "code",
   "execution_count": 188,
   "metadata": {},
   "outputs": [
    {
     "data": {
      "image/png": "[encoded data removed]",
      "text/plain": [
       "<Figure size 432x288 with 1 Axes>"
      ]
     },
     "metadata": {
      "needs_background": "light"
     },
     "output_type": "display_data"
    }
   ],
   "source": [
    "x = list(range(1, 7))\n",
    "y = nota_matematicas\n",
    "\n",
    "plt.plot(x, y, marker = 'o')\n",
    "plt.title('Grafico de las notas de Matemáticas')\n",
    "plt.xlabel('Pruebas')\n",
    "plt.ylabel('Notas')\n",
    "plt.show()"
   ]
  },
  {
   "cell_type": "code",
   "execution_count": 197,
   "metadata": {},
   "outputs": [
    {
     "data": {
      "image/png": "[encoded data removed]",
      "text/plain": [
       "<Figure size 432x288 with 1 Axes>"
      ]
     },
     "metadata": {
      "needs_background": "light"
     },
     "output_type": "display_data"
    },
    {
     "data": {
      "image/png": "[encoded data removed]",
      "text/plain": [
       "<Figure size 432x288 with 1 Axes>"
      ]
     },
     "metadata": {
      "needs_background": "light"
     },
     "output_type": "display_data"
    },
    {
     "data": {
      "image/png": "[encoded data removed]",
      "text/plain": [
       "<Figure size 432x288 with 1 Axes>"
      ]
     },
     "metadata": {
      "needs_background": "light"
     },
     "output_type": "display_data"
    }
   ],
   "source": [
    "import matplotlib.pyplot as plt\n",
    "\n",
    "notas_matematica = ['Matemática',8,7,6,6,7,7,8,10]\n",
    "notas_lenguaje = ['Lenguaje',9,9,9,8,5,6,8,5]\n",
    "notas_geografia = ['Geografía',10,10,6,7,7,7,8,7]\n",
    "\n",
    "notas = [notas_matematica, notas_lenguaje, notas_geografia]\n",
    "\n",
    "for nota in notas:\n",
    "    x = list(range(1,9))\n",
    "    y = nota[1:]\n",
    "    \n",
    "    plt.plot(x, y, marker = 'o')\n",
    "    plt.title(nota[0])\n",
    "    plt.xlabel('Exámenes')\n",
    "    plt.ylabel('Notas')\n",
    "    plt.show()"
   ]
  }
 ],
 "metadata": {
  "interpreter": {
   "hash": "72e14310f89bddf644011492ac3a94802276837cdda8a171713db2008a8afcfa"
  },
  "kernelspec": {
   "display_name": "Python 3.9.4 64-bit",
   "name": "python3"
  },
  "language_info": {
   "codemirror_mode": {
    "name": "ipython",
    "version": 3
   },
   "file_extension": ".py",
   "mimetype": "text/x-python",
   "name": "python",
   "nbconvert_exporter": "python",
   "pygments_lexer": "ipython3",
   "version": "3.9.4"
  },
  "orig_nbformat": 4
 },
 "nbformat": 4,
 "nbformat_minor": 2
}
